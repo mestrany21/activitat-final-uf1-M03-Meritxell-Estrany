{
 "cells": [
  {
   "cell_type": "code",
   "execution_count": 1,
   "id": "b896ed61-4487-4f55-b350-49e7d70dc4f6",
   "metadata": {
    "autorun": true,
    "tags": []
   },
   "outputs": [],
   "source": [
    "String printBinary(String binary, int blockSize, String separator) {\n",
    "        List<String> result = new ArrayList<>();\n",
    "        int index = 0;\n",
    "        while (index < binary.length()) {\n",
    "            result.add(binary.substring(index, Math.min(index + blockSize, binary.length())));\n",
    "            index += blockSize;\n",
    "        }\n",
    "\n",
    "        return result.stream().collect(java.util.stream.Collectors.joining(separator));\n",
    "    }\n",
    "void intToBin(int input){\n",
    "    String result = Integer.toBinaryString(input);\n",
    "    String resultWithPadding = String.format(\"%32s\", result).replaceAll(\" \", \"0\");\n",
    "    System.out.println(printBinary(resultWithPadding, 4, \" \")); \n",
    "}\n",
    "\n",
    "//La funció ```intToBin``` la podeu utilitzar, si voleu, com a ajuda per a respondre les preguntes 1 i 2."
   ]
  },
  {
   "cell_type": "markdown",
   "id": "54b801d8-b4b0-4b20-a67c-5b701d1e6f56",
   "metadata": {},
   "source": [
    "# Nivell 2"
   ]
  },
  {
   "cell_type": "markdown",
   "id": "6acb5fd8-9cfe-483a-8d6c-8e2b3f3b2692",
   "metadata": {},
   "source": [
    "## Pregunta 1"
   ]
  },
  {
   "cell_type": "markdown",
   "id": "42998526-bce2-4306-9a33-e618e8c5d05a",
   "metadata": {},
   "source": [
    "**Operadors shift**\n",
    "\n",
    "Executeu el seguent codi en una cel·la del notebook:\n",
    "\n",
    "```java\n",
    "int n = 10;\n",
    "println(n<<1 == n * 2);\n",
    "println(n<<2 == n * 4);\n",
    "println(n<<3 == n * 8);\n",
    "```\n",
    "\n",
    "Explica **per què** imprimeix _true_ en cada cas? (**Raona la resposta**)"
   ]
  },
  {
   "cell_type": "code",
   "execution_count": 3,
   "id": "1e241e28-fb81-4885-b03b-d5c1d4a1753a",
   "metadata": {},
   "outputs": [
    {
     "name": "stdout",
     "output_type": "stream",
     "text": [
      "true\n",
      "true\n",
      "true\n"
     ]
    }
   ],
   "source": [
    "//Escriu i executa el codi aquí\n",
    "\n",
    "int n = 10;\n",
    "println(n<<1 == n * 2);\n",
    "println(n<<2 == n * 4);\n",
    "println(n<<3 == n * 8);"
   ]
  },
  {
   "cell_type": "markdown",
   "id": "99cdca44-50f9-464b-a8e7-9a9ea4dcee6a",
   "metadata": {},
   "source": [
    "Resposta:\n",
    "\n",
    "_Escriu la teva resposta aquí_  \n",
    "Aquesta operació el que fa és desplaçar el primer número en bits cap a l'esquerra i omple amb 0 tants espais a la dreta com unitats del segon número.  \n",
    "- En el primer cas al 10 que és 1010 en binari se li afegeix un 0, per l'1 de la dreta, aleshores queda 10100 i aquest número equival al 20 en decimal, i en aquest cas és equivalent a l'operació de 10 * 2. \n",
    "- En el segon cas al 10  se li afegeixen dos 0, pel 2 de la dreta aleshores queda 101000 i aquest número equival al 40 en decimal, i en aquest cas és equivalent a l'operació de 10 * 4.\n",
    "- En l'últim cas al 10  se li afegeixen dos 0, pel 3 de la dreta, aleshores queda 1010000 i aquest número equival al 80 en decimal, i en aquest cas és equivalent a l'operació de 10 * 8."
   ]
  },
  {
   "cell_type": "markdown",
   "id": "beac9e74-d4a2-481a-b351-db070966a91f",
   "metadata": {},
   "source": [
    "## Pregunta 2 "
   ]
  },
  {
   "cell_type": "markdown",
   "id": "ab86a9cc-78b1-4d6b-af08-9d45d1d048be",
   "metadata": {},
   "source": [
    "Executa el següent codi, cada línia en una cel·la:\n",
    "\n",
    "```java\n",
    "int n = 10;\n",
    "println(n & ~n);\n",
    "println(n | ~n);\n",
    "```"
   ]
  },
  {
   "cell_type": "code",
   "execution_count": 36,
   "id": "26029d33-e1ef-46be-ae8a-35c4998e9520",
   "metadata": {},
   "outputs": [
    {
     "name": "stdout",
     "output_type": "stream",
     "text": [
      "0\n"
     ]
    }
   ],
   "source": [
    "//Escriu i executa el codi aquí\n",
    "\n",
    "int n = 10;\n",
    "println(n & ~n);\n"
   ]
  },
  {
   "cell_type": "code",
   "execution_count": 34,
   "id": "34cd7bcf-0f3d-424f-8c90-e7b4dad03dae",
   "metadata": {},
   "outputs": [
    {
     "name": "stdout",
     "output_type": "stream",
     "text": [
      "-11"
     ]
    }
   ],
   "source": [
    "print(~10);"
   ]
  },
  {
   "cell_type": "code",
   "execution_count": 9,
   "id": "4863b89f-b9fb-41b9-9adf-d51054be87f0",
   "metadata": {},
   "outputs": [
    {
     "name": "stdout",
     "output_type": "stream",
     "text": [
      "-1\n"
     ]
    }
   ],
   "source": [
    "int n = 10;\n",
    "println(n | ~n);"
   ]
  },
  {
   "cell_type": "markdown",
   "id": "80a32860-4a5b-45f8-96cf-945f298baaa6",
   "metadata": {},
   "source": [
    "Has de contestar dues preguntes:\n",
    "\n",
    "1 - Per què s'obté 0 i -1?\n",
    "\n",
    "Resposta:\n",
    "\n",
    "En el primer cas s'obté 0 perquè primer es fa l'operació ~ en que el número 10 en binari (0000 1010) passa els seus 1 a 0 i viceversa.Després en fer l'& es comparen les mateixes posicions de cada xifra, si hi ha algun 0, el resultat és 0 si són dos 1 el resultat és 1, en aquest cas dona 0 perquè s'esta operant amb dos nombres inversos.  \n",
    "En el segon cas l'operació ~és igual al cas anterior, l'únic que canvia és que en l'operació | quan es troba que un dels dos numeros es un 1 retorna 1, si els dos són 0 retorna 0, per això en aquest cas dona -1, perquè comparant l'invers i el 1010 tots els casos són 1.\n",
    "\n",
    "\n",
    "2 - Per què, posis el valor que li posis a la variable _n_, sempre dóna el mateix (0 i -1)?\n",
    "\n",
    "Resposta:\n",
    "\n",
    "Perquè les operacions es fan amb la mateixa variable, així que s'opera un numero amb ell mateix, i quan es fan les operacions inverses succeeix el mateix en tots els casos, perquè es fan amb un número i el seu invers."
   ]
  },
  {
   "cell_type": "markdown",
   "id": "b61701fd-7032-4adb-af2a-508e0b667371",
   "metadata": {},
   "source": [
    "## Exercici 1"
   ]
  },
  {
   "cell_type": "markdown",
   "id": "747e1fa9-08e4-4881-a3be-5feb4fdb1057",
   "metadata": {},
   "source": [
    "Escriu una funció, la signatura de la qual serà\n",
    "\n",
    "```java\n",
    "int[] removeNegatives2(int[] array);\n",
    "```\n",
    "\n",
    "que retorni un array que només contingui els elements no negatius de l'array d'entrada (és a dir, els positius i els zeros).\n",
    "\n",
    "Exemples:\n",
    "```\n",
    "[2,-1,-5,4,6] -> retorna [2,4,6]\n",
    "[0,-3,3] -> retorna [0,3] \n",
    "[] -> retorna [] (l'array buit -sense elements- retorna un array buit)\n",
    "```\n"
   ]
  },
  {
   "cell_type": "code",
   "execution_count": 36,
   "id": "d64b0827-4bab-4129-bb32-93c4bbbab1bf",
   "metadata": {},
   "outputs": [
    {
     "name": "stdout",
     "output_type": "stream",
     "text": [
      "[2, 4, 6]"
     ]
    }
   ],
   "source": [
    "int[] removeNegatives2(int[] array){\n",
    "    int [] array2 = new int[getNumOfPositius(array)];\n",
    "    int posicio = 0;\n",
    "    for(int i = 0; i<array.length; i++){\n",
    "        if(array[i]>0){\n",
    "            array2[posicio]=array[i];\n",
    "            posicio++;\n",
    "        }\n",
    "    }return array2;\n",
    "}\n",
    "\n",
    "int [] arrayNou = {2,-1,-5,4,6};\n",
    "print(Arrays.toString(removeNegatives2(arrayNou)));"
   ]
  },
  {
   "cell_type": "code",
   "execution_count": 35,
   "id": "2b500739-4e56-490d-ad5b-2b7c52710196",
   "metadata": {},
   "outputs": [],
   "source": [
    "int getNumOfPositius(int[] n){\n",
    "    //El teu codi aquí\n",
    "    int positius = 0;\n",
    "    for(int i = 0; i<n.length ; i++){\n",
    "      if(n[i] >= 0){\n",
    "          positius++;\n",
    "      }\n",
    "    }\n",
    "  return positius;  \n",
    "}"
   ]
  },
  {
   "cell_type": "markdown",
   "id": "89d4609e-c040-4029-bd48-083b931f9f4d",
   "metadata": {},
   "source": [
    "## Exercici 2 (arrays bidimensionals)"
   ]
  },
  {
   "cell_type": "markdown",
   "id": "38fb449c-f92c-423e-9572-098dce117abd",
   "metadata": {},
   "source": [
    "En aquest exercici heu d'implementar una funció molt semblant a la del nivell 1 (arrays bidimensionals), però ara li passarem com a segon paràmetre un número enter ``k`` que representa la columna que volem obtenir de la matriu.\n",
    "\n",
    "Per tant, si la matriu que es passa com a primer paràmetre és de mida ``n x m`` (n files i m columnes), el valor de ``k`` estarà entre 0 i m-1. **Si el valor de k no està entre 0 i k-1, la funció ha de retornar null i imprimir per pantalla un missatge d'error**.\n",
    "\n",
    "El resultat d'aquesta funció quan k = 0 ha de ser idèntic al resultat retornat per la funció del nivell 1."
   ]
  },
  {
   "cell_type": "markdown",
   "id": "f76f6527-a444-4041-b02d-d08b901d4927",
   "metadata": {},
   "source": [
    "**Exemple**:\n",
    "\n",
    "```\n",
    "int[][] matrix = {{0,1},{2,3},{4,5}};\n",
    "\n",
    "getColumn(matrix,0) -> retorna [0,1]\n",
    "getColumn(matrix,1) -> retorna [2,3]\n",
    "getColumn(matrix,2) -> retorna [4,5]\n",
    "getColumn(matrix,-2) -> retorna null i imprimeix error\n",
    "getColumn(matrix,5) -> retorna null i imprimeix error\n",
    "```"
   ]
  },
  {
   "cell_type": "code",
   "execution_count": 21,
   "id": "63e6755c-0cbb-45fa-b7a9-dd8e15938602",
   "metadata": {},
   "outputs": [
    {
     "name": "stdout",
     "output_type": "stream",
     "text": [
      "[0, 2, 4]\n",
      "[1, 3, 5]\n",
      "[6, 9, 7]\n",
      "ERROR\n",
      "null\n",
      "ERROR\n",
      "null\n"
     ]
    }
   ],
   "source": [
    "//Implementeu la funció aquí:\n",
    "\n",
    "int[] getColumn(int[][] matrix, int k){\n",
    "    int num_files = matrix.length;\n",
    "    int num_cols = matrix[0].length;\n",
    "    if(k>=0 && k<=num_cols-1){\n",
    "        \n",
    "        int [] array = new int[num_files];\n",
    "        for(int n=0; n<num_files; n++)\n",
    "        {\n",
    "            /*print(matrix[0].length-1); println(\"zzzzz\"); \n",
    "            print(matrix[k][n]); print(\"--\");*/\n",
    "            array[n]=matrix[n][k];          \n",
    "        }\n",
    "        return array;\n",
    "    }else{\n",
    "        println(\"ERROR\");\n",
    "        return null;\n",
    "    }\n",
    "\n",
    "}\n",
    "int [][] matrix = {{0,1,6},{2,3,9},{4,5,7}};\n",
    "println(Arrays.toString(getColumn(matrix,0)));\n",
    "println(Arrays.toString(getColumn(matrix,1)));\n",
    "println(Arrays.toString(getColumn(matrix,2)));\n",
    "println(Arrays.toString(getColumn(matrix,-2)));\n",
    "println(Arrays.toString(getColumn(matrix,5)));\n"
   ]
  },
  {
   "cell_type": "code",
   "execution_count": 20,
   "id": "ab8cb133-8b9b-41c3-9866-1eca5708cb2a",
   "metadata": {},
   "outputs": [
    {
     "name": "stdout",
     "output_type": "stream",
     "text": [
      "[0, 2, 4]\n",
      "[1, 3, 5]\n",
      "ERROR\n",
      "null\n",
      "ERROR\n",
      "null\n",
      "ERROR\n",
      "null\n"
     ]
    }
   ],
   "source": [
    "//Feu les vostres proves a continuació\n",
    "int[][] matrix = {{0,1},{2,3},{4,5}};\n",
    "\n",
    "println(Arrays.toString(getColumn(matrix,0)));\n",
    "println(Arrays.toString(getColumn(matrix,1)));\n",
    "println(Arrays.toString(getColumn(matrix,2)));\n",
    "println(Arrays.toString(getColumn(matrix,-2)));\n",
    "println(Arrays.toString(getColumn(matrix,5)));"
   ]
  },
  {
   "cell_type": "code",
   "execution_count": 15,
   "id": "eeb0ed78-4607-4777-9f4d-770d60ec4409",
   "metadata": {
    "tags": []
   },
   "outputs": [
    {
     "name": "stdout",
     "output_type": "stream",
     "text": [
      "3\n",
      "2\n"
     ]
    }
   ],
   "source": [
    "int [][] matrix = {{0,1},{2,3},{4,5}};\n",
    "println(matrix.length); //NUMERO FILES\n",
    "println(matrix[0].length); //NUM COLUMNES"
   ]
  },
  {
   "cell_type": "code",
   "execution_count": null,
   "id": "f616ccaa-700b-4d0d-a224-2c1840313bdf",
   "metadata": {},
   "outputs": [],
   "source": []
  }
 ],
 "metadata": {
  "kernelspec": {
   "display_name": "Java 11",
   "language": "java",
   "name": "java"
  },
  "language_info": {
   "codemirror_mode": "java",
   "file_extension": ".jshell",
   "mimetype": "text/x-java-source",
   "name": "Java",
   "pygments_lexer": "java",
   "version": "11.0.13+8-Ubuntu-0ubuntu1.20.04"
  }
 },
 "nbformat": 4,
 "nbformat_minor": 5
}
