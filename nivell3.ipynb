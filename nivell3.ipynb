{
 "cells": [
  {
   "cell_type": "markdown",
   "id": "47a95175-c703-484c-8202-f7cc8c96b687",
   "metadata": {},
   "source": [
    "# Nivell 3"
   ]
  },
  {
   "cell_type": "markdown",
   "id": "6d67f3be-852b-461c-986d-0c7e8295e426",
   "metadata": {},
   "source": [
    "## Exercici 1"
   ]
  },
  {
   "cell_type": "markdown",
   "id": "e09a0643-317c-403f-82f9-9b0445c99fd9",
   "metadata": {},
   "source": [
    "En aquest exercici has d'implementar una funció, que tindrà la següent signatura:\n",
    "\n",
    "```java\n",
    "String[] codeVowels(String[] words);\n",
    "```\n",
    "\n",
    "La transformació que ha de fer aquesta funció és la següent:\n",
    "\n",
    "Ha de retornar un nou array que contingui les mateixes paraules que l'array _words_ original, però substituint totes les vocals (**majúscules i minúscules**) pels següents corresponents caràcters:\n",
    "```\n",
    "a | A -> 4\n",
    "e | E -> 3\n",
    "i | I -> !\n",
    "o | O -> 0\n",
    "u | U -> 1\n",
    "```\n",
    "\n",
    "\n",
    "Exemples:\n",
    "```\n",
    "[\"Hola\",\"Java\",\"Dev\",\"Universitat\"] -> retorna [\"H0l4\",\"J4v4\",\"D3v\",\"1n!v3rs!t4t\"]\n",
    "[\"AMIC\",\"amic\"] -> retorna [\"4m!c\",\"4m!c\"] \n",
    "[] -> retorna [] (l'array buit -sense elements- retorna un array buit)\n",
    "```\n"
   ]
  },
  {
   "cell_type": "code",
   "execution_count": 171,
   "id": "4c5f9e87-2317-4c1e-b8fd-a9f9cb340701",
   "metadata": {},
   "outputs": [
    {
     "name": "stdout",
     "output_type": "stream",
     "text": [
      "[H0l4, J4v4, D3v, 6n1v3rs1t4t]\n",
      "[4M1C, 4m1c]\n",
      "[]\n"
     ]
    }
   ],
   "source": [
    "String [] codeVowels(String[] words){\n",
    "    //TODO\n",
    "    String [] resultat = new String [words.length];\n",
    "    for(int i =0; i<words.length; i++){\n",
    "        resultat[i] = convertirVocals(words[i]);\n",
    "    }\n",
    "    return resultat;\n",
    "}\n",
    "//Les teves proves a continuació\n",
    "String [] paraules = {\"Hola\",\"Java\",\"Dev\",\"Universitat\"};\n",
    "println(Arrays.toString(codeVowels(paraules)));\n",
    "String [] paraules2 = {\"AMIC\",\"amic\"};\n",
    "println(Arrays.toString(codeVowels(paraules2)));\n",
    "String [] paraules3 = {\"\"};\n",
    "println(Arrays.toString(codeVowels(paraules3)));"
   ]
  },
  {
   "cell_type": "code",
   "execution_count": 170,
   "id": "f4a704ff-96a6-4774-b4e2-6de65affc95e",
   "metadata": {},
   "outputs": [],
   "source": [
    "//Funció per convertir les vocals en simbols\n",
    "String convertirVocals (String nom1){\n",
    "\n",
    "        String nom2 = nom1.replace(\"e\", \"3\").replace(\"i\", \"1\").replace(\"a\", \"4\").replace(\"o\", \"0\").replace(\"u\", \"6\").replace(\"E\", \"3\").replace(\"I\", \"1\").replace(\"A\", \"4\").replace(\"O\", \"0\").replace(\"U\", \"6\");\n",
    "        //System.out.print(nom2);\n",
    "    return nom2;\n",
    "    \n",
    "}"
   ]
  },
  {
   "cell_type": "markdown",
   "id": "47dbd957-7168-4fb8-912d-7c76769b7f19",
   "metadata": {},
   "source": [
    "## Exercici 2 (arrays bidimensionals)"
   ]
  },
  {
   "cell_type": "markdown",
   "id": "42ada42c-4112-401e-9c53-be7279e747bb",
   "metadata": {},
   "source": [
    "A partir d'una matriu ``n x m`` d'enters, implementeu la següent funció, que retornarà un array **de doubles** de mida ``n`` tal que els seus elements seran cadascun la mitjana aritmètica de tots els valors de cada fila (és a dir, el primer element de l'array a retornar serà la mitjana aritmètica de tots els valors de la primera fila de la matriu, el segon element... de la segona fila de la matriu, etc.).\n",
    "\n",
    "```java\n",
    "double[] getAveragesPerRow(int[][] matrix);\n",
    "```"
   ]
  },
  {
   "cell_type": "markdown",
   "id": "7e8a473d-262c-4796-b879-0f39b9d7cc54",
   "metadata": {},
   "source": [
    "Exemple:\n",
    "```\n",
    "int[][] matrix = {{0,1},{2,3},{4,5}};\n",
    "```\n",
    "\n",
    "La mitjana aritmètica de la primera fila és ``(0 + 1) / 2 = 0.5``\n",
    "\n",
    "La mitjana aritmètica de la segona fila és ``(2 + 3) / 2 = 2.5``\n",
    "\n",
    "La mitjana aritmètica de la tercera fila és ``(4 + 5) / 2 = 4.5``\n",
    "\n",
    "> Així, l'array a retornar per la funció serà [0.5, 2.5, 4.5]"
   ]
  },
  {
   "cell_type": "markdown",
   "id": "9392a8a3-8e17-45f6-9fe5-a6e4092ab303",
   "metadata": {},
   "source": [
    "NOTA: podeu reutilitzar la funció ``average`` que vau fer en una activitat anterior, per a calcular la mitjana aritmètica de cada fila."
   ]
  },
  {
   "cell_type": "code",
   "execution_count": 148,
   "id": "0c03f061-d7cd-4f28-898a-e1453c63d9b0",
   "metadata": {},
   "outputs": [],
   "source": [
    "//Implementeu la funció aquí:\n",
    "double []  getAveragesPerRow(int[][] A){\n",
    "    double acumuladorFiles = 0;\n",
    "    int num_files = A.length;\n",
    "    int num_cols = A[0].length;\n",
    "    double [] array = new double [num_files];\n",
    "    for (int x=0; x<num_files; x++ ){\n",
    "        acumuladorFiles = 0;\n",
    "        for(int y =0; y<num_cols; y++){\n",
    "            acumuladorFiles =+ A[x][y];\n",
    "        }\n",
    "        array[x] = acumuladorFiles/num_cols;\n",
    "    }return array;\n",
    "}"
   ]
  },
  {
   "cell_type": "code",
   "execution_count": 149,
   "id": "e99cdd4c-ae2d-41f7-9a1f-f86a894457f0",
   "metadata": {},
   "outputs": [
    {
     "name": "stdout",
     "output_type": "stream",
     "text": [
      "[0.5, 1.5, 2.5]\n"
     ]
    }
   ],
   "source": [
    "//Feu les vostres proves a continuació\n",
    "int [][] matriu = {{0,1},{2,3},{4,5}};\n",
    "println(Arrays.toString(getAveragesPerRow(matriu)));"
   ]
  },
  {
   "cell_type": "code",
   "execution_count": null,
   "id": "33777162-2559-4d26-8b89-788873305896",
   "metadata": {},
   "outputs": [],
   "source": []
  }
 ],
 "metadata": {
  "kernelspec": {
   "display_name": "Java 11",
   "language": "java",
   "name": "java"
  },
  "language_info": {
   "codemirror_mode": "java",
   "file_extension": ".jshell",
   "mimetype": "text/x-java-source",
   "name": "Java",
   "pygments_lexer": "java",
   "version": "11.0.13+8-Ubuntu-0ubuntu1.20.04"
  }
 },
 "nbformat": 4,
 "nbformat_minor": 5
}
